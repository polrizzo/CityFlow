{
 "cells": [
  {
   "metadata": {},
   "cell_type": "markdown",
   "source": "# Setup",
   "id": "ab7565526222b087"
  },
  {
   "cell_type": "code",
   "id": "initial_id",
   "metadata": {
    "collapsed": true,
    "ExecuteTime": {
     "end_time": "2024-05-24T16:09:38.856815Z",
     "start_time": "2024-05-24T16:09:38.844132Z"
    }
   },
   "source": [
    "import cityflow\n",
    "import webbrowser\n",
    "import logging\n",
    "import datetime\n",
    "import os\n",
    "import json"
   ],
   "outputs": [],
   "execution_count": 1
  },
  {
   "metadata": {
    "ExecuteTime": {
     "end_time": "2024-05-24T16:09:38.865867Z",
     "start_time": "2024-05-24T16:09:38.860060Z"
    }
   },
   "cell_type": "code",
   "source": [
    "def setPath(source:str, name:str, ext:str, datename:str=None) -> str:\n",
    "    if datename is None:\n",
    "        return source + name + ext\n",
    "    else:\n",
    "        return source + datename + \"_\" + name + ext"
   ],
   "id": "74807f3a5f3b8a71",
   "outputs": [],
   "execution_count": 2
  },
  {
   "metadata": {
    "ExecuteTime": {
     "end_time": "2024-05-24T16:09:38.879525Z",
     "start_time": "2024-05-24T16:09:38.869845Z"
    }
   },
   "cell_type": "code",
   "source": [
    "config_path = \"conf.json\"\n",
    "\n",
    "datenow = datetime.datetime.now().strftime(\"%Y-%m-%d_%H-%M\") \n",
    "log_path = setPath(\"./replay/\", datenow, \".log\")\n",
    "logging.basicConfig(filename=log_path,\n",
    "                    filemode='w',\n",
    "                    format='%(asctime)s %(message)s',\n",
    "                    datefmt='%H:%M:%S',\n",
    "                    level=logging.DEBUG)"
   ],
   "id": "ae515931fa9e0130",
   "outputs": [],
   "execution_count": 3
  },
  {
   "metadata": {
    "ExecuteTime": {
     "end_time": "2024-05-24T16:09:38.904624Z",
     "start_time": "2024-05-24T16:09:38.889392Z"
    }
   },
   "cell_type": "code",
   "source": [
    "logging.info(\"Check roadnet file\")\n",
    "with open('./roadnet/roadnet_2_4_turn.json') as f:\n",
    "    roadDict = json.load(f)"
   ],
   "id": "3cf1b58e7a5d8e24",
   "outputs": [],
   "execution_count": 4
  },
  {
   "metadata": {
    "ExecuteTime": {
     "end_time": "2024-05-24T16:09:38.914069Z",
     "start_time": "2024-05-24T16:09:38.907328Z"
    }
   },
   "cell_type": "code",
   "source": "print(len(roadDict.get('roads')))",
   "id": "c8ceb6e1641399b5",
   "outputs": [
    {
     "name": "stdout",
     "output_type": "stream",
     "text": [
      "44\n"
     ]
    }
   ],
   "execution_count": 5
  },
  {
   "metadata": {
    "ExecuteTime": {
     "end_time": "2024-05-24T16:09:43.715662Z",
     "start_time": "2024-05-24T16:09:38.916588Z"
    }
   },
   "cell_type": "code",
   "source": [
    "eng = cityflow.Engine(config_path, thread_num=1)\n",
    "logging.info(\"Running CityFlow simulation\")\n",
    "for i in range(1000):\n",
    "    eng.next_step()\n",
    "    logging.info(\"Step: \" + str(eng.get_current_time()))\n",
    "    logging.debug(\"Vehicle count: \" + str(eng.get_vehicle_count()))\n",
    "    logging.debug(\"Vehicles per lane\")\n",
    "    logging.debug(eng.get_lane_vehicles())\n",
    "    logging.debug(\"Waiting vehicles per lane\")\n",
    "    logging.debug(eng.get_lane_waiting_vehicle_count())\n",
    "    logging.info(\"-\"*80)"
   ],
   "id": "6ffb90ff9523135e",
   "outputs": [],
   "execution_count": 6
  },
  {
   "metadata": {
    "ExecuteTime": {
     "end_time": "2024-05-24T16:09:43.727809Z",
     "start_time": "2024-05-24T16:09:43.721032Z"
    }
   },
   "cell_type": "code",
   "source": [
    "os.rename(\"./replay/replay.txt\", setPath(\"./replay/\", \"replay\", \".txt\", datenow))\n",
    "os.rename(\"./replay/replay_roadnet.json\", setPath(\"./replay/\", \"replay_roadnet\", \".json\", datenow))"
   ],
   "id": "b2c55b31194d5a6a",
   "outputs": [],
   "execution_count": 7
  },
  {
   "metadata": {},
   "cell_type": "markdown",
   "source": "# Visualize CityFlow",
   "id": "41bc5838c0140a99"
  },
  {
   "metadata": {
    "ExecuteTime": {
     "end_time": "2024-05-24T16:09:44.241893Z",
     "start_time": "2024-05-24T16:09:43.730182Z"
    }
   },
   "cell_type": "code",
   "source": "url = webbrowser.open(\"http://localhost:63342/CityFlow/frontend/index.html?_ijt=bmt8r6vo8kvu7a05mgbq8j7oln&_ij_reload=RELOAD_ON_SAVE\")",
   "id": "210ca04a5fa6592f",
   "outputs": [],
   "execution_count": 8
  },
  {
   "metadata": {
    "ExecuteTime": {
     "end_time": "2024-05-24T16:09:44.246570Z",
     "start_time": "2024-05-24T16:09:44.243490Z"
    }
   },
   "cell_type": "code",
   "source": "",
   "id": "58077abdfc34ce2f",
   "outputs": [],
   "execution_count": 8
  }
 ],
 "metadata": {
  "kernelspec": {
   "display_name": "Python 3",
   "language": "python",
   "name": "python3"
  },
  "language_info": {
   "codemirror_mode": {
    "name": "ipython",
    "version": 2
   },
   "file_extension": ".py",
   "mimetype": "text/x-python",
   "name": "python",
   "nbconvert_exporter": "python",
   "pygments_lexer": "ipython2",
   "version": "2.7.6"
  }
 },
 "nbformat": 4,
 "nbformat_minor": 5
}
