{
 "cells": [
  {
   "metadata": {},
   "cell_type": "markdown",
   "source": "# Setup",
   "id": "ab7565526222b087"
  },
  {
   "cell_type": "code",
   "id": "initial_id",
   "metadata": {
    "collapsed": true,
    "ExecuteTime": {
     "end_time": "2024-10-06T17:16:38.843629Z",
     "start_time": "2024-10-06T17:16:38.828880Z"
    }
   },
   "source": [
    "import cityflow\n",
    "import webbrowser\n",
    "import logging\n",
    "import datetime\n",
    "import os\n",
    "import json"
   ],
   "outputs": [],
   "execution_count": 1
  },
  {
   "metadata": {
    "ExecuteTime": {
     "end_time": "2024-10-06T17:16:38.882983Z",
     "start_time": "2024-10-06T17:16:38.877594Z"
    }
   },
   "cell_type": "code",
   "source": [
    "def setPath(source:str=None, name:str=None, ext:str=None, datename:str=None) -> str:\n",
    "    if datename is None:\n",
    "        return source + name + ext\n",
    "    else:\n",
    "        return source + datename + \"_\" + name + ext"
   ],
   "id": "74807f3a5f3b8a71",
   "outputs": [],
   "execution_count": 2
  },
  {
   "metadata": {
    "ExecuteTime": {
     "end_time": "2024-10-06T17:16:39.051456Z",
     "start_time": "2024-10-06T17:16:39.046040Z"
    }
   },
   "cell_type": "code",
   "source": [
    "config_path = \"conf.json\"\n",
    "\n",
    "datenow = datetime.datetime.now().strftime(\"%Y-%m-%d_%H-%M\") \n",
    "log_path = setPath(\"./replay/\", datenow, \".log\")\n",
    "logging.basicConfig(filename=log_path,\n",
    "                    filemode='w',\n",
    "                    format='%(asctime)s %(message)s',\n",
    "                    datefmt='%H:%M:%S',\n",
    "                    level=logging.DEBUG)"
   ],
   "id": "ae515931fa9e0130",
   "outputs": [],
   "execution_count": 3
  },
  {
   "metadata": {
    "ExecuteTime": {
     "end_time": "2024-10-06T17:16:39.610345Z",
     "start_time": "2024-10-06T17:16:39.088901Z"
    }
   },
   "cell_type": "code",
   "source": [
    "logging.info(\"Check roadnet file\")\n",
    "with open('./roadnet/roadnet_2_4_turn.json') as f:\n",
    "    roadDict = json.load(f)"
   ],
   "id": "3cf1b58e7a5d8e24",
   "outputs": [
    {
     "ename": "FileNotFoundError",
     "evalue": "[Errno 2] No such file or directory: './roadnet/roadnet_2_4_turn.json'",
     "output_type": "error",
     "traceback": [
      "\u001B[0;31m---------------------------------------------------------------------------\u001B[0m",
      "\u001B[0;31mFileNotFoundError\u001B[0m                         Traceback (most recent call last)",
      "Cell \u001B[0;32mIn[4], line 2\u001B[0m\n\u001B[1;32m      1\u001B[0m logging\u001B[38;5;241m.\u001B[39minfo(\u001B[38;5;124m\"\u001B[39m\u001B[38;5;124mCheck roadnet file\u001B[39m\u001B[38;5;124m\"\u001B[39m)\n\u001B[0;32m----> 2\u001B[0m \u001B[38;5;28;01mwith\u001B[39;00m \u001B[38;5;28;43mopen\u001B[39;49m\u001B[43m(\u001B[49m\u001B[38;5;124;43m'\u001B[39;49m\u001B[38;5;124;43m./roadnet/roadnet_2_4_turn.json\u001B[39;49m\u001B[38;5;124;43m'\u001B[39;49m\u001B[43m)\u001B[49m \u001B[38;5;28;01mas\u001B[39;00m f:\n\u001B[1;32m      3\u001B[0m     roadDict \u001B[38;5;241m=\u001B[39m json\u001B[38;5;241m.\u001B[39mload(f)\n",
      "File \u001B[0;32m~/Desktop/CityFlow/venv/lib/python3.10/site-packages/IPython/core/interactiveshell.py:324\u001B[0m, in \u001B[0;36m_modified_open\u001B[0;34m(file, *args, **kwargs)\u001B[0m\n\u001B[1;32m    317\u001B[0m \u001B[38;5;28;01mif\u001B[39;00m file \u001B[38;5;129;01min\u001B[39;00m {\u001B[38;5;241m0\u001B[39m, \u001B[38;5;241m1\u001B[39m, \u001B[38;5;241m2\u001B[39m}:\n\u001B[1;32m    318\u001B[0m     \u001B[38;5;28;01mraise\u001B[39;00m \u001B[38;5;167;01mValueError\u001B[39;00m(\n\u001B[1;32m    319\u001B[0m         \u001B[38;5;124mf\u001B[39m\u001B[38;5;124m\"\u001B[39m\u001B[38;5;124mIPython won\u001B[39m\u001B[38;5;124m'\u001B[39m\u001B[38;5;124mt let you open fd=\u001B[39m\u001B[38;5;132;01m{\u001B[39;00mfile\u001B[38;5;132;01m}\u001B[39;00m\u001B[38;5;124m by default \u001B[39m\u001B[38;5;124m\"\u001B[39m\n\u001B[1;32m    320\u001B[0m         \u001B[38;5;124m\"\u001B[39m\u001B[38;5;124mas it is likely to crash IPython. If you know what you are doing, \u001B[39m\u001B[38;5;124m\"\u001B[39m\n\u001B[1;32m    321\u001B[0m         \u001B[38;5;124m\"\u001B[39m\u001B[38;5;124myou can use builtins\u001B[39m\u001B[38;5;124m'\u001B[39m\u001B[38;5;124m open.\u001B[39m\u001B[38;5;124m\"\u001B[39m\n\u001B[1;32m    322\u001B[0m     )\n\u001B[0;32m--> 324\u001B[0m \u001B[38;5;28;01mreturn\u001B[39;00m \u001B[43mio_open\u001B[49m\u001B[43m(\u001B[49m\u001B[43mfile\u001B[49m\u001B[43m,\u001B[49m\u001B[43m \u001B[49m\u001B[38;5;241;43m*\u001B[39;49m\u001B[43margs\u001B[49m\u001B[43m,\u001B[49m\u001B[43m \u001B[49m\u001B[38;5;241;43m*\u001B[39;49m\u001B[38;5;241;43m*\u001B[39;49m\u001B[43mkwargs\u001B[49m\u001B[43m)\u001B[49m\n",
      "\u001B[0;31mFileNotFoundError\u001B[0m: [Errno 2] No such file or directory: './roadnet/roadnet_2_4_turn.json'"
     ]
    }
   ],
   "execution_count": 4
  },
  {
   "metadata": {
    "ExecuteTime": {
     "end_time": "2024-10-06T17:16:39.700394875Z",
     "start_time": "2024-09-03T16:03:12.035754Z"
    }
   },
   "cell_type": "code",
   "source": "print(len(roadDict.get('roads')))",
   "id": "c8ceb6e1641399b5",
   "outputs": [
    {
     "name": "stdout",
     "output_type": "stream",
     "text": [
      "44\n"
     ]
    }
   ],
   "execution_count": 6
  },
  {
   "metadata": {
    "ExecuteTime": {
     "end_time": "2024-10-06T17:16:39.701181503Z",
     "start_time": "2024-09-03T16:03:12.191619Z"
    }
   },
   "cell_type": "code",
   "source": [
    "eng = cityflow.Engine(config_path, thread_num=1)\n",
    "logging.info(\"Running CityFlow simulation\")\n",
    "for i in range(1000):\n",
    "    eng.next_step()\n",
    "    logging.info(\"Step: \" + str(eng.get_current_time()))\n",
    "    logging.debug(\"Vehicle count: \" + str(eng.get_vehicle_count()))\n",
    "    logging.debug(\"Vehicles per lane\")\n",
    "    logging.debug(eng.get_lane_vehicles())\n",
    "    logging.debug(\"Waiting vehicles per lane\")\n",
    "    logging.debug(eng.get_lane_waiting_vehicle_count())\n",
    "    logging.info(\"-\"*80)"
   ],
   "id": "6ffb90ff9523135e",
   "outputs": [],
   "execution_count": 7
  },
  {
   "metadata": {
    "ExecuteTime": {
     "end_time": "2024-10-06T17:16:39.701600147Z",
     "start_time": "2024-09-03T16:03:17.011835Z"
    }
   },
   "cell_type": "code",
   "source": [
    "os.rename(\"./replay/replay.txt\", setPath(\"./replay/\", \"replay\", \".txt\", datenow))\n",
    "os.rename(\"./replay/replay_roadnet.json\", setPath(\"./replay/\", \"replay_roadnet\", \".json\", datenow))"
   ],
   "id": "b2c55b31194d5a6a",
   "outputs": [],
   "execution_count": 8
  },
  {
   "metadata": {},
   "cell_type": "markdown",
   "source": "# Visualize CityFlow",
   "id": "41bc5838c0140a99"
  },
  {
   "metadata": {
    "ExecuteTime": {
     "end_time": "2024-10-06T17:16:48.385016Z",
     "start_time": "2024-10-06T17:16:47.609656Z"
    }
   },
   "cell_type": "code",
   "source": "url = webbrowser.open(\"http://localhost:63342/CityFlow/frontend/index.html?_ijt=bmt8r6vo8kvu7a05mgbq8j7oln&_ij_reload=RELOAD_ON_SAVE\")",
   "id": "210ca04a5fa6592f",
   "outputs": [],
   "execution_count": 5
  },
  {
   "metadata": {
    "ExecuteTime": {
     "end_time": "2024-10-06T17:16:39.702382192Z",
     "start_time": "2024-09-03T16:03:17.636198Z"
    }
   },
   "cell_type": "code",
   "source": "",
   "id": "58077abdfc34ce2f",
   "outputs": [],
   "execution_count": null
  }
 ],
 "metadata": {
  "kernelspec": {
   "display_name": "Python 3",
   "language": "python",
   "name": "python3"
  },
  "language_info": {
   "codemirror_mode": {
    "name": "ipython",
    "version": 2
   },
   "file_extension": ".py",
   "mimetype": "text/x-python",
   "name": "python",
   "nbconvert_exporter": "python",
   "pygments_lexer": "ipython2",
   "version": "2.7.6"
  }
 },
 "nbformat": 4,
 "nbformat_minor": 5
}
