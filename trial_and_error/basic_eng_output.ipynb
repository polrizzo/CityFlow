{
 "cells": [
  {
   "metadata": {},
   "cell_type": "markdown",
   "source": "# Setup",
   "id": "ab7565526222b087"
  },
  {
   "cell_type": "code",
   "id": "initial_id",
   "metadata": {
    "collapsed": true,
    "ExecuteTime": {
     "end_time": "2024-05-23T15:49:18.067643Z",
     "start_time": "2024-05-23T15:49:18.055111Z"
    }
   },
   "source": [
    "import cityflow\n",
    "import webbrowser\n",
    "import logging\n",
    "import datetime"
   ],
   "outputs": [],
   "execution_count": 1
  },
  {
   "metadata": {
    "ExecuteTime": {
     "end_time": "2024-05-23T15:49:18.079434Z",
     "start_time": "2024-05-23T15:49:18.073046Z"
    }
   },
   "cell_type": "code",
   "source": [
    "config_path = \"./basic_conf.json\"\n",
    "\n",
    "log_path = \"./replay/\" + datetime.datetime.now().strftime(\"%Y-%m-%d_%H-%M\") + \".log\"\n",
    "logging.basicConfig(filename=log_path,\n",
    "                    filemode='w',\n",
    "                    format='%(asctime)s %(message)s',\n",
    "                    datefmt='%H:%M:%S',\n",
    "                    level=logging.DEBUG)\n",
    "\n",
    "logging.info(\"Running CityFlow simulation\")"
   ],
   "id": "ae515931fa9e0130",
   "outputs": [],
   "execution_count": 2
  },
  {
   "metadata": {
    "ExecuteTime": {
     "end_time": "2024-05-23T15:49:18.180256Z",
     "start_time": "2024-05-23T15:49:18.082310Z"
    }
   },
   "cell_type": "code",
   "source": [
    "eng = cityflow.Engine(config_path, thread_num=1)\n",
    "for i in range(10):\n",
    "    eng.next_step()\n",
    "    logging.info(\"Step: \" + str(eng.get_current_time()))\n",
    "    logging.debug(\"Vehicle count: \" + str(eng.get_vehicle_count()))\n",
    "    logging.debug(\"Vehicles per lane\")\n",
    "    logging.debug(eng.get_lane_vehicles())\n",
    "    logging.debug(\"Waiting vehicles per lane\")\n",
    "    logging.debug(eng.get_lane_waiting_vehicle_count())\n",
    "    logging.info(\"-\"*80)"
   ],
   "id": "6ffb90ff9523135e",
   "outputs": [],
   "execution_count": 3
  },
  {
   "metadata": {},
   "cell_type": "markdown",
   "source": "# Visualize CityFlow",
   "id": "41bc5838c0140a99"
  },
  {
   "metadata": {
    "ExecuteTime": {
     "end_time": "2024-05-23T15:49:18.701329Z",
     "start_time": "2024-05-23T15:49:18.182692Z"
    }
   },
   "cell_type": "code",
   "source": "url = webbrowser.open(\"http://localhost:63342/CityFlow/frontend/index.html?_ijt=bmt8r6vo8kvu7a05mgbq8j7oln&_ij_reload=RELOAD_ON_SAVE\")",
   "id": "210ca04a5fa6592f",
   "outputs": [],
   "execution_count": 4
  },
  {
   "metadata": {
    "ExecuteTime": {
     "end_time": "2024-05-23T15:49:18.708990Z",
     "start_time": "2024-05-23T15:49:18.704877Z"
    }
   },
   "cell_type": "code",
   "source": "",
   "id": "58077abdfc34ce2f",
   "outputs": [],
   "execution_count": 4
  }
 ],
 "metadata": {
  "kernelspec": {
   "display_name": "Python 3",
   "language": "python",
   "name": "python3"
  },
  "language_info": {
   "codemirror_mode": {
    "name": "ipython",
    "version": 2
   },
   "file_extension": ".py",
   "mimetype": "text/x-python",
   "name": "python",
   "nbconvert_exporter": "python",
   "pygments_lexer": "ipython2",
   "version": "2.7.6"
  }
 },
 "nbformat": 4,
 "nbformat_minor": 5
}
